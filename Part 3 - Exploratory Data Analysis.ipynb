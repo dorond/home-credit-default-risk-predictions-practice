{
 "cells": [
  {
   "cell_type": "markdown",
   "metadata": {
    "toc": true
   },
   "source": [
    "<h1>Table of Contents<span class=\"tocSkip\"></span></h1>\n",
    "<div class=\"toc\"><ul class=\"toc-item\"></ul></div>"
   ]
  },
  {
   "cell_type": "markdown",
   "metadata": {},
   "source": [
    "Let's investigate our target variable. "
   ]
  },
  {
   "cell_type": "code",
   "execution_count": null,
   "metadata": {},
   "outputs": [],
   "source": [
    "app_train['TARGET'].value_counts()"
   ]
  },
  {
   "cell_type": "code",
   "execution_count": null,
   "metadata": {},
   "outputs": [],
   "source": [
    "app_train['TARGET'].plot.hist();"
   ]
  },
  {
   "cell_type": "markdown",
   "metadata": {},
   "source": [
    "Very imbalanced - far more loans are payed on time then not repaid."
   ]
  },
  {
   "cell_type": "code",
   "execution_count": null,
   "metadata": {},
   "outputs": [],
   "source": [
    "app_train.select_dtypes('object').apply(pd.Series.nunique, axis = 0)"
   ]
  },
  {
   "cell_type": "markdown",
   "metadata": {},
   "source": [
    "Most categorical variables only have a few levels. We'll need to one-hot encode these which will add a lot of features to our dataset.\n",
    "\n",
    "Let's examine a few interesting variables, in some cases we'll split them based on whether they repaid or defaulted."
   ]
  },
  {
   "cell_type": "code",
   "execution_count": null,
   "metadata": {},
   "outputs": [],
   "source": [
    "# Used to explore a single feature on a set of subplots. \n",
    "# Visualise distribution, noise & outliers and missing values as well as correlation with target.\n",
    "def explore_variable(df, feature, target=None, by_categorical=None):\n",
    "    '''\n",
    "    Numerical features will display 3 plots: histogram, correlation between source feature and a target and a box plot for feature. \n",
    "    Optional by_categorical can be provided to show box plot by levels of a categorical variable.\n",
    "    Categorical features will display 2 plots: bar chart of levels, median of target by feature levels.\n",
    "    '''    \n",
    "    feature_type = df[feature].dtype\n",
    "    missing = df.apply(lambda x: sum(x.isnull())).loc[feature]\n",
    "    print(\"'{}' is of type {} with {} missing values\".format(feature, feature_type, missing))\n",
    "\n",
    "    if feature_type == \"object\":\n",
    "        fig, ax = plt.subplots(1, 2, figsize=(15,5))\n",
    "        fig.subplots_adjust(wspace=0.3)\n",
    "\n",
    "        ax1 = ax.ravel()[0]\n",
    "        ax1.set_title(\"Distribution of {}\".format(feature))\n",
    "        df[feature].value_counts().plot.barh(ax=ax1)\n",
    "\n",
    "        ax2 = ax.ravel()[1]\n",
    "        ax2.set_title(\"Median {} by {}\".format(target, feature))\n",
    "#         df.groupby(feature)[[target]].median().plot.barh(ax=ax2)\n",
    "        if by_categorical is not None:\n",
    "            pd.pivot_table(data=df, index=feature, values=target, columns=by_categorical).plot.barh(ax=ax2)\n",
    "        else:\n",
    "            pd.pivot_table(data=df, index=feature, values=target).plot.barh(ax=ax2)\n",
    "\n",
    "        plt.show()\n",
    "\n",
    "    elif feature_type == \"int64\" or \"float64\":\n",
    "        if target is not None:\n",
    "            fig, ax = plt.subplots(1, 3, figsize=(20,8), dpi=400)\n",
    "            fig.subplots_adjust(wspace=0.3)\n",
    "\n",
    "            ax1 = ax.ravel()[0]\n",
    "            ax1.set_title(\"Distribution of {}\".format(feature))\n",
    "            df[feature].hist(bins=50, ax=ax1)\n",
    "\n",
    "            ax2 = ax.ravel()[1]\n",
    "            ax2.set_title(\"Correlation btw\\n {} and {}\".format(feature, target))\n",
    "            df.plot.scatter(x=feature, y=target, ax=ax2)  \n",
    "\n",
    "            ax3 = ax.ravel()[2]\n",
    "            ax3.set_title(\"Box plot for {}\".format(feature))\n",
    "            #df[feature].plot.box(ax=ax3)\n",
    "            if by_categorical is not None:\n",
    "                sns.boxplot(x=by_categorical, y=feature, data=df, ax=ax3)\n",
    "            else:\n",
    "                sns.boxplot(y=df[feature], ax=ax3)\n",
    "        else:\n",
    "            fig, ax = plt.subplots(1, 2, figsize=(20,8), dpi=400)\n",
    "            fig.subplots_adjust(wspace=0.3)\n",
    "\n",
    "            ax1 = ax.ravel()[0]\n",
    "            ax1.set_title(\"Distribution of {}\".format(feature))\n",
    "            df[feature].hist(bins=50, ax=ax1)\n",
    "\n",
    "            ax2 = ax.ravel()[1]\n",
    "            ax2.set_title(\"Box plot for {}\".format(feature))\n",
    "            #df[feature].plot.box(ax=ax3)\n",
    "            if by_categorical is not None:\n",
    "                sns.boxplot(x=by_categorical, y=feature, data=df, ax=ax2)\n",
    "            else:\n",
    "                sns.boxplot(y=df[feature], ax=ax2)\n",
    "            \n",
    "        \n",
    "\n",
    "        plt.show()\n"
   ]
  },
  {
   "cell_type": "code",
   "execution_count": null,
   "metadata": {},
   "outputs": [],
   "source": [
    "app_train.NAME_CONTRACT_TYPE.value_counts()"
   ]
  },
  {
   "cell_type": "code",
   "execution_count": null,
   "metadata": {},
   "outputs": [],
   "source": [
    "plt.style.use('fivethirtyeight')\n",
    "\n",
    "sns.catplot(data=app_train, x=\"TARGET\", hue=\"NAME_CONTRACT_TYPE\", kind=\"count\")\n",
    "plt.title('Repayment or Default by Loan Type')\n",
    "plt.xlabel('Loan Type'); plt.ylabel('Number of Loans');"
   ]
  },
  {
   "cell_type": "markdown",
   "metadata": {},
   "source": [
    "Since most of the loans are Cash Loans, this doesn't tell us much."
   ]
  },
  {
   "cell_type": "code",
   "execution_count": null,
   "metadata": {},
   "outputs": [],
   "source": [
    "app_train.CODE_GENDER.value_counts()"
   ]
  },
  {
   "cell_type": "code",
   "execution_count": null,
   "metadata": {},
   "outputs": [],
   "source": [
    "sns.catplot(data=app_train, x=\"TARGET\", hue=\"CODE_GENDER\", kind=\"count\")"
   ]
  },
  {
   "cell_type": "markdown",
   "metadata": {},
   "source": [
    "More females repay the loan, but there are nearly twice as many females in the dataset. Likewise more females default.\n",
    "\n",
    "There is a category called XNA with only 4 entries, let's remove these from the training and test set."
   ]
  },
  {
   "cell_type": "code",
   "execution_count": null,
   "metadata": {},
   "outputs": [],
   "source": [
    "app_train = app_train[app_train.CODE_GENDER != \"XNA\"]"
   ]
  },
  {
   "cell_type": "code",
   "execution_count": null,
   "metadata": {},
   "outputs": [],
   "source": [
    "app_train.shape"
   ]
  },
  {
   "cell_type": "markdown",
   "metadata": {},
   "source": [
    "Let's see if number of children affects loan repayment."
   ]
  },
  {
   "cell_type": "code",
   "execution_count": null,
   "metadata": {},
   "outputs": [],
   "source": [
    "app_train.CNT_CHILDREN.describe()"
   ]
  },
  {
   "cell_type": "markdown",
   "metadata": {},
   "source": [
    "Someone has 19 children! This must be an error, let's check it out."
   ]
  },
  {
   "cell_type": "code",
   "execution_count": null,
   "metadata": {},
   "outputs": [],
   "source": [
    "app_train[app_train.CNT_CHILDREN >= 10]"
   ]
  },
  {
   "cell_type": "markdown",
   "metadata": {},
   "source": [
    "These seem unlikely. Most also seem to repay their loans (TARGET == 0). Let's change their child count to np.nan so they can be imputed rather. We'll add a flag to indicate they are anomolies."
   ]
  },
  {
   "cell_type": "code",
   "execution_count": null,
   "metadata": {},
   "outputs": [],
   "source": [
    "anom = app_train[app_train['CNT_CHILDREN'] >= 10]\n",
    "non_anom = app_train[app_train['CNT_CHILDREN'] < 10]\n",
    "print('The non-anomalies default on %0.2f%% of loans' % (100 * non_anom['TARGET'].mean()))\n",
    "print('The anomalies default on %0.2f%% of loans' % (100 * anom['TARGET'].mean()))\n",
    "print('There are %d anomalous children counts' % len(anom))"
   ]
  },
  {
   "cell_type": "code",
   "execution_count": null,
   "metadata": {},
   "outputs": [],
   "source": [
    "# Create an anomalous flag column\n",
    "app_train['CNT_CHILDREN_ANOM'] = app_train[\"CNT_CHILDREN\"] >= 10\n",
    "\n",
    "# Replace the anomalous values with nan\n",
    "app_train[\"CNT_CHILDREN\"].replace({10: np.nan, 11: np.nan, 12: np.nan, 13: np.nan, 14: np.nan, 15: np.nan, 16: np.nan, 17: np.nan, 18: np.nan, 19: np.nan}, inplace=True)"
   ]
  },
  {
   "cell_type": "code",
   "execution_count": null,
   "metadata": {},
   "outputs": [],
   "source": [
    "# Function to calculate missing values by column\n",
    "def missing_values_table(df):\n",
    "        # Total missing values\n",
    "        mis_val = df.isnull().sum()\n",
    "        \n",
    "        # Percentage of missing values\n",
    "        mis_val_percent = 100 * df.isnull().sum() / len(df)\n",
    "        \n",
    "        # Make a table with the results\n",
    "        mis_val_table = pd.concat([mis_val, mis_val_percent], axis=1)\n",
    "        \n",
    "        # Rename the columns\n",
    "        mis_val_table_ren_columns = mis_val_table.rename(\n",
    "        columns = {0 : 'Missing Values', 1 : '% of Total Values'})\n",
    "        \n",
    "        # Sort the table by percentage of missing descending\n",
    "        mis_val_table_ren_columns = mis_val_table_ren_columns[\n",
    "            mis_val_table_ren_columns.iloc[:,1] != 0].sort_values(\n",
    "        '% of Total Values', ascending=False).round(1)\n",
    "        \n",
    "        # Print some summary information\n",
    "        print (\"Your selected dataframe has \" + str(df.shape[1]) + \" columns.\\n\"      \n",
    "            \"There are \" + str(mis_val_table_ren_columns.shape[0]) +\n",
    "              \" columns that have missing values.\")\n",
    "        \n",
    "        # Return the dataframe with missing information\n",
    "        return mis_val_table_ren_columns"
   ]
  },
  {
   "cell_type": "code",
   "execution_count": null,
   "metadata": {},
   "outputs": [],
   "source": [
    "missing_values_table(app_train).head(30)"
   ]
  },
  {
   "cell_type": "markdown",
   "metadata": {},
   "source": [
    "- There are a lot of missing values, we can try impute them using some criteria or we can remove columns that have a certain percent or greater of missing values. "
   ]
  },
  {
   "cell_type": "code",
   "execution_count": null,
   "metadata": {},
   "outputs": [],
   "source": [
    "app_test = pd.read_csv('input/application_test.csv')\n",
    "print(\"test data size:\", app_test.shape)\n",
    "app_test.head()"
   ]
  }
 ],
 "metadata": {
  "kernelspec": {
   "display_name": "Python [conda env:home-credit]",
   "language": "python",
   "name": "conda-env-home-credit-py"
  },
  "language_info": {
   "codemirror_mode": {
    "name": "ipython",
    "version": 3
   },
   "file_extension": ".py",
   "mimetype": "text/x-python",
   "name": "python",
   "nbconvert_exporter": "python",
   "pygments_lexer": "ipython3",
   "version": "3.6.6"
  },
  "toc": {
   "base_numbering": 1,
   "nav_menu": {},
   "number_sections": true,
   "sideBar": true,
   "skip_h1_title": false,
   "title_cell": "Table of Contents",
   "title_sidebar": "Contents",
   "toc_cell": true,
   "toc_position": {},
   "toc_section_display": true,
   "toc_window_display": true
  }
 },
 "nbformat": 4,
 "nbformat_minor": 2
}
